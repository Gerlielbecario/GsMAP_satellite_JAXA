{
 "cells": [
  {
   "cell_type": "markdown",
   "metadata": {},
   "source": [
    "Por el momento este es un ipynb en el que tenemos un codigo que nos permite verificar que tipo de archhivos de la carpeta con los datos son posibles para la lectura\n"
   ]
  },
  {
   "cell_type": "code",
   "execution_count": 4,
   "metadata": {},
   "outputs": [
    {
     "name": "stdout",
     "output_type": "stream",
     "text": [
      "Verificando la validez de los archivos Gzip en la carpeta: /home/fernando.huaranca/datos/Datos_GSMAP/daily_G_v8\n",
      "Progreso: 100.00%\n",
      "Verificación completada.\n",
      "Archivos Gzip no válidos:\n",
      "gsmap_gauge.20070225.0.1d.daily.00Z-23Z.v8.0000.0.dat.gz\n",
      "gsmap_gauge.20171031.0.1d.daily.00Z-23Z.v8.0000.0.dat.gz\n",
      "gsmap_gauge.20131112.0.1d.daily.00Z-23Z.v8.0000.0.dat.gz\n",
      "gsmap_gauge.20050217.0.1d.daily.00Z-23Z.v8.0000.0.dat.gz\n",
      "gsmap_gauge.20061108.0.1d.daily.00Z-23Z.v8.0000.0.dat.gz\n",
      "gsmap_gauge.20070227.0.1d.daily.00Z-23Z.v8.0000.0.dat.gz\n",
      "gsmap_gauge.20010122.0.1d.daily.00Z-23Z.v8.0000.0.dat.gz\n",
      "gsmap_gauge.20070226.0.1d.daily.00Z-23Z.v8.0000.0.dat.gz\n",
      "gsmap_gauge.20051008.0.1d.daily.00Z-23Z.v8.0000.0.dat.gz\n",
      "gsmap_gauge.20090826.0.1d.daily.00Z-23Z.v8.0000.0.dat.gz\n",
      "gsmap_gauge.20031023.0.1d.daily.00Z-23Z.v8.0000.0.dat.gz\n"
     ]
    }
   ],
   "source": [
    "import os\n",
    "import gzip\n",
    "\n",
    "folder_path = '/home/fernando.huaranca/datos/Datos_GSMAP/daily_G_v8'  # Ruta de la carpeta actual\n",
    "\n",
    "file_list = os.listdir(folder_path)\n",
    "total_files = len(file_list)\n",
    "invalid_gzips = []\n",
    "\n",
    "print(\"Verificando la validez de los archivos Gzip en la carpeta:\", folder_path)\n",
    "\n",
    "for idx, filename in enumerate(file_list):\n",
    "    print(\"Progreso: {:.2f}%\".format((idx + 1) * 100 / total_files), end=\"\\r\")\n",
    "\n",
    "    if filename.endswith(\".gz\"):\n",
    "        file_path = os.path.join(folder_path, filename)\n",
    "        try:\n",
    "            with gzip.open(file_path, \"rb\") as f:\n",
    "                f.read(1)\n",
    "        except gzip.BadGzipFile:\n",
    "            invalid_gzips.append(filename)\n",
    "\n",
    "print(\"\\nVerificación completada.\")\n",
    "\n",
    "if invalid_gzips:\n",
    "    print(\"Archivos Gzip no válidos:\")\n",
    "    for filename in invalid_gzips:\n",
    "        print(filename)\n",
    "else:\n",
    "    print(\"Todos los archivos Gzip son válidos.\")\n"
   ]
  },
  {
   "cell_type": "code",
   "execution_count": 1,
   "metadata": {},
   "outputs": [
    {
     "name": "stdout",
     "output_type": "stream",
     "text": [
      "Verificando la validez de los archivos Gzip en la carpeta: /home/fernando.huaranca/datos/Datos_GSMAP/daily_G_v8\n",
      "Progreso: 100.00%\n",
      "Verificación completada.\n",
      "Archivos Gzip no válidos:\n",
      "gsmap_gauge.20070225.0.1d.daily.00Z-23Z.v8.0000.0.dat.gz\n",
      "gsmap_gauge.20171031.0.1d.daily.00Z-23Z.v8.0000.0.dat.gz\n",
      "gsmap_gauge.20131112.0.1d.daily.00Z-23Z.v8.0000.0.dat.gz\n",
      "gsmap_gauge.20050217.0.1d.daily.00Z-23Z.v8.0000.0.dat.gz\n",
      "gsmap_gauge.20061108.0.1d.daily.00Z-23Z.v8.0000.0.dat.gz\n",
      "gsmap_gauge.20070227.0.1d.daily.00Z-23Z.v8.0000.0.dat.gz\n",
      "gsmap_gauge.20010122.0.1d.daily.00Z-23Z.v8.0000.0.dat.gz\n",
      "gsmap_gauge.20070226.0.1d.daily.00Z-23Z.v8.0000.0.dat.gz\n",
      "gsmap_gauge.20051008.0.1d.daily.00Z-23Z.v8.0000.0.dat.gz\n",
      "gsmap_gauge.20090826.0.1d.daily.00Z-23Z.v8.0000.0.dat.gz\n",
      "gsmap_gauge.20031023.0.1d.daily.00Z-23Z.v8.0000.0.dat.gz\n"
     ]
    }
   ],
   "source": [
    "import os\n",
    "import gzip\n",
    "\n",
    "folder_path = '/home/fernando.huaranca/datos/Datos_GSMAP/daily_G_v8'  # Ruta de la carpeta actual\n",
    "\n",
    "file_list = os.listdir(folder_path)\n",
    "total_files = len(file_list)\n",
    "invalid_gzips = []\n",
    "\n",
    "print(\"Verificando la validez de los archivos Gzip en la carpeta:\", folder_path)\n",
    "\n",
    "for idx, filename in enumerate(file_list):\n",
    "    print(\"Progreso: {:.2f}%\".format((idx + 1) * 100 / total_files), end=\"\\r\")\n",
    "\n",
    "    if filename.endswith(\".gz\"):\n",
    "        file_path = os.path.join(folder_path, filename)\n",
    "        try:\n",
    "            with gzip.open(file_path, \"rb\") as f:\n",
    "                f.read(1)\n",
    "        except gzip.BadGzipFile:\n",
    "            invalid_gzips.append(filename)\n",
    "\n",
    "print(\"\\nVerificación completada.\")\n",
    "\n",
    "if invalid_gzips:\n",
    "    print(\"Archivos Gzip no válidos:\")\n",
    "    for filename in invalid_gzips:\n",
    "        print(filename)\n",
    "else:\n",
    "    print(\"Todos los archivos Gzip son válidos.\")"
   ]
  },
  {
   "cell_type": "code",
   "execution_count": 7,
   "metadata": {},
   "outputs": [
    {
     "name": "stdout",
     "output_type": "stream",
     "text": [
      "   Datos\n",
      "0  Dato1\n",
      "1  Dato2\n",
      "2  Dato3\n",
      "3  Dato4\n",
      "4  Dato5\n",
      "Los datos se han guardado en datos.csv\n"
     ]
    }
   ],
   "source": [
    "import pandas as pd\n",
    "\n",
    "# Supongamos que tienes una lista de elementos\n",
    "mi_lista = [\"Dato1\", \"Dato2\", \"Dato3\", \"Dato4\", \"Dato5\"]\n",
    "\n",
    "# Crea un DataFrame de Pandas con una sola columna\n",
    "df = pd.DataFrame({'Datos': mi_lista})\n",
    "print(df)\n",
    "\n",
    "# Guarda el DataFrame en un archivo CSV\n",
    "nombre_archivo = \"datos.csv\"\n",
    "df.to_csv(nombre_archivo, index=False)\n",
    "\n",
    "print(f\"Los datos se han guardado en {nombre_archivo}\")\n"
   ]
  },
  {
   "cell_type": "code",
   "execution_count": 3,
   "metadata": {},
   "outputs": [
    {
     "name": "stdout",
     "output_type": "stream",
     "text": [
      "        0     1          2\n",
      "0  Nombre  Edad     Ciudad\n",
      "1    Juan    30     Madrid\n",
      "2   María    25  Barcelona\n",
      "3  Carlos    35   Valencia\n",
      "Los datos se han guardado en datos.csv\n"
     ]
    }
   ],
   "source": [
    "import pandas as pd\n",
    "\n",
    "datos = [\n",
    "    [\"Nombre\", \"Edad\", \"Ciudad\"],\n",
    "    [\"Juan\", 30, \"Madrid\"],\n",
    "    [\"María\", 25, \"Barcelona\"],\n",
    "    [\"Carlos\", 35, \"Valencia\"]\n",
    "    ]\n",
    "\n",
    "# Convierte la lista en un DataFrame de Pandas\n",
    "df = pd.DataFrame(datos)\n",
    "\n",
    "print(df)\n",
    "# Guarda el DataFrame en un archivo CSV\n",
    "nombre_archivo = \"datos.csv\"\n",
    "df.to_csv(nombre_archivo, index=False)\n",
    "\n",
    "print(f\"Los datos se han guardado en {nombre_archivo}\")\n",
    "\n",
    "\n",
    "\n",
    "\n",
    "\n"
   ]
  }
 ],
 "metadata": {
  "kernelspec": {
   "display_name": "tesis",
   "language": "python",
   "name": "python3"
  },
  "language_info": {
   "codemirror_mode": {
    "name": "ipython",
    "version": 3
   },
   "file_extension": ".py",
   "mimetype": "text/x-python",
   "name": "python",
   "nbconvert_exporter": "python",
   "pygments_lexer": "ipython3",
   "version": "3.10.12"
  },
  "orig_nbformat": 4
 },
 "nbformat": 4,
 "nbformat_minor": 2
}
